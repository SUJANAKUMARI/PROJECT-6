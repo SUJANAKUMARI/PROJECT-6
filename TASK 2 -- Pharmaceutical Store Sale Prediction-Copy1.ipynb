{
 "cells": [
  {
   "cell_type": "code",
   "execution_count": 1,
   "id": "f12d1dc8",
   "metadata": {},
   "outputs": [],
   "source": [
    "import pandas as pd\n",
    "import numpy as np\n",
    "from sklearn.preprocessing import LabelEncoder\n",
    "from sklearn.model_selection import train_test_split\n",
    "from sklearn.ensemble import RandomForestRegressor\n",
    "from sklearn.feature_selection import SelectKBest, f_regression\n",
    "import matplotlib.pyplot as plt\n",
    "import seaborn as sns\n",
    "from sklearn.preprocessing import StandardScaler\n",
    "from sklearn.metrics import mean_squared_error, r2_score\n",
    "from sklearn.model_selection import GridSearchCV\n",
    "from sklearn.pipeline import Pipeline\n",
    "from sklearn.ensemble import RandomForestRegressor\n",
    "from sklearn.pipeline import Pipeline\n",
    "from sklearn.impute import SimpleImputer\n",
    "from sklearn.preprocessing import StandardScaler\n",
    "from sklearn.metrics import mean_squared_error\n",
    "from xgboost import XGBRegressor\n",
    "from sklearn.ensemble import GradientBoostingRegressor\n",
    "from sklearn.utils import resample\n",
    "from sklearn.linear_model import LinearRegression\n",
    "from sklearn.ensemble import RandomForestRegressor, AdaBoostRegressor, GradientBoostingRegressor\n",
    "from sklearn.linear_model import LinearRegression, Ridge, Lasso, ElasticNet\n",
    "from xgboost import XGBRegressor\n",
    "from lightgbm import LGBMRegressor  # LightGBM model\n",
    "from sklearn.model_selection import train_test_split\n",
    "from sklearn.metrics import mean_absolute_error, mean_squared_error, r2_score\n",
    "from catboost import CatBoostRegressor\n",
    "import joblib\n",
    "import os\n",
    "from datetime import datetime"
   ]
  },
  {
   "cell_type": "code",
   "execution_count": 2,
   "id": "fc141da9",
   "metadata": {},
   "outputs": [],
   "source": [
    "from sklearn.metrics import mean_squared_error\n"
   ]
  },
  {
   "cell_type": "code",
   "execution_count": 3,
   "id": "9ae0f1e5",
   "metadata": {},
   "outputs": [
    {
     "name": "stderr",
     "output_type": "stream",
     "text": [
      "2024-11-03 11:21:24,445 - sales_prediction_logger - INFO - This is an INFO message.\n",
      "2024-11-03 11:21:24,448 - sales_prediction_logger - WARNING - This is a WARNING message.\n",
      "2024-11-03 11:21:24,449 - sales_prediction_logger - ERROR - This is an ERROR message.\n",
      "2024-11-03 11:21:24,451 - sales_prediction_logger - CRITICAL - This is a CRITICAL message.\n"
     ]
    }
   ],
   "source": [
    "from sales_logger import logger\n"
   ]
  },
  {
   "cell_type": "code",
   "execution_count": 4,
   "id": "3a8e7ae0",
   "metadata": {},
   "outputs": [
    {
     "name": "stderr",
     "output_type": "stream",
     "text": [
      "2024-11-03 11:21:25,812 - sales_prediction_logger - INFO - Starting data processing.\n",
      "2024-11-03 11:21:25,815 - sales_prediction_logger - ERROR - An error occurred: division by zero\n",
      "2024-11-03 11:21:25,818 - sales_prediction_logger - INFO - Data processing completed.\n"
     ]
    }
   ],
   "source": [
    "logger.info(\"Starting data processing.\")\n",
    "\n",
    "# Your data processing code here\n",
    "\n",
    "try:\n",
    "    # Example computation\n",
    "    result = 10 / 0  # This will raise a ZeroDivisionError\n",
    "except ZeroDivisionError as e:\n",
    "    logger.error(\"An error occurred: %s\", e)\n",
    "\n",
    "logger.info(\"Data processing completed.\")\n"
   ]
  },
  {
   "cell_type": "code",
   "execution_count": 5,
   "id": "df412795",
   "metadata": {},
   "outputs": [
    {
     "name": "stderr",
     "output_type": "stream",
     "text": [
      "2024-11-03 11:21:29,741 - sales_prediction_logger - INFO - Starting data processing.\n"
     ]
    }
   ],
   "source": [
    "logger.info(\"Starting data processing.\")\n",
    "\n",
    "# Your data processing code here\n",
    "data = [1, 2, 3]  # Example data\n",
    "\n",
    "logger.debug(\"Data: %s\", data)  # This will log the data\n"
   ]
  },
  {
   "cell_type": "code",
   "execution_count": 6,
   "id": "12aafd83",
   "metadata": {},
   "outputs": [
    {
     "name": "stderr",
     "output_type": "stream",
     "text": [
      "C:\\Users\\Lenovo\\AppData\\Local\\Temp\\ipykernel_14592\\2158010631.py:1: DtypeWarning: Columns (7) have mixed types. Specify dtype option on import or set low_memory=False.\n",
      "  df_train = pd.read_csv('df_train.csv')\n"
     ]
    }
   ],
   "source": [
    "df_train = pd.read_csv('df_train.csv')\n",
    "df_test= pd.read_csv('test.csv')"
   ]
  },
  {
   "cell_type": "code",
   "execution_count": 7,
   "id": "b0d49025",
   "metadata": {},
   "outputs": [
    {
     "data": {
      "text/html": [
       "<div>\n",
       "<style scoped>\n",
       "    .dataframe tbody tr th:only-of-type {\n",
       "        vertical-align: middle;\n",
       "    }\n",
       "\n",
       "    .dataframe tbody tr th {\n",
       "        vertical-align: top;\n",
       "    }\n",
       "\n",
       "    .dataframe thead th {\n",
       "        text-align: right;\n",
       "    }\n",
       "</style>\n",
       "<table border=\"1\" class=\"dataframe\">\n",
       "  <thead>\n",
       "    <tr style=\"text-align: right;\">\n",
       "      <th></th>\n",
       "      <th>Store</th>\n",
       "      <th>DayOfWeek</th>\n",
       "      <th>Date</th>\n",
       "      <th>Sales</th>\n",
       "      <th>Customers</th>\n",
       "      <th>Open</th>\n",
       "      <th>Promo</th>\n",
       "      <th>StateHoliday</th>\n",
       "      <th>SchoolHoliday</th>\n",
       "      <th>StoreType</th>\n",
       "      <th>Assortment</th>\n",
       "      <th>CompetitionDistance</th>\n",
       "      <th>CompetitionOpenSinceMonth</th>\n",
       "      <th>CompetitionOpenSinceYear</th>\n",
       "      <th>Promo2</th>\n",
       "      <th>Promo2SinceWeek</th>\n",
       "      <th>Promo2SinceYear</th>\n",
       "      <th>PromoInterval</th>\n",
       "    </tr>\n",
       "  </thead>\n",
       "  <tbody>\n",
       "    <tr>\n",
       "      <th>0</th>\n",
       "      <td>1</td>\n",
       "      <td>5</td>\n",
       "      <td>2015-07-31</td>\n",
       "      <td>5263</td>\n",
       "      <td>555</td>\n",
       "      <td>1</td>\n",
       "      <td>1</td>\n",
       "      <td>0</td>\n",
       "      <td>1</td>\n",
       "      <td>c</td>\n",
       "      <td>a</td>\n",
       "      <td>1270.0</td>\n",
       "      <td>9</td>\n",
       "      <td>2008</td>\n",
       "      <td>0</td>\n",
       "      <td>0</td>\n",
       "      <td>0</td>\n",
       "      <td>0</td>\n",
       "    </tr>\n",
       "    <tr>\n",
       "      <th>1</th>\n",
       "      <td>2</td>\n",
       "      <td>5</td>\n",
       "      <td>2015-07-31</td>\n",
       "      <td>6064</td>\n",
       "      <td>625</td>\n",
       "      <td>1</td>\n",
       "      <td>1</td>\n",
       "      <td>0</td>\n",
       "      <td>1</td>\n",
       "      <td>a</td>\n",
       "      <td>a</td>\n",
       "      <td>570.0</td>\n",
       "      <td>11</td>\n",
       "      <td>2007</td>\n",
       "      <td>1</td>\n",
       "      <td>13</td>\n",
       "      <td>2010</td>\n",
       "      <td>Jan,Apr,Jul,Oct</td>\n",
       "    </tr>\n",
       "    <tr>\n",
       "      <th>2</th>\n",
       "      <td>3</td>\n",
       "      <td>5</td>\n",
       "      <td>2015-07-31</td>\n",
       "      <td>8314</td>\n",
       "      <td>821</td>\n",
       "      <td>1</td>\n",
       "      <td>1</td>\n",
       "      <td>0</td>\n",
       "      <td>1</td>\n",
       "      <td>a</td>\n",
       "      <td>a</td>\n",
       "      <td>14130.0</td>\n",
       "      <td>12</td>\n",
       "      <td>2006</td>\n",
       "      <td>1</td>\n",
       "      <td>14</td>\n",
       "      <td>2011</td>\n",
       "      <td>Jan,Apr,Jul,Oct</td>\n",
       "    </tr>\n",
       "    <tr>\n",
       "      <th>3</th>\n",
       "      <td>4</td>\n",
       "      <td>5</td>\n",
       "      <td>2015-07-31</td>\n",
       "      <td>13995</td>\n",
       "      <td>1498</td>\n",
       "      <td>1</td>\n",
       "      <td>1</td>\n",
       "      <td>0</td>\n",
       "      <td>1</td>\n",
       "      <td>c</td>\n",
       "      <td>c</td>\n",
       "      <td>620.0</td>\n",
       "      <td>9</td>\n",
       "      <td>2009</td>\n",
       "      <td>0</td>\n",
       "      <td>0</td>\n",
       "      <td>0</td>\n",
       "      <td>0</td>\n",
       "    </tr>\n",
       "    <tr>\n",
       "      <th>4</th>\n",
       "      <td>6</td>\n",
       "      <td>5</td>\n",
       "      <td>2015-07-31</td>\n",
       "      <td>5651</td>\n",
       "      <td>589</td>\n",
       "      <td>1</td>\n",
       "      <td>1</td>\n",
       "      <td>0</td>\n",
       "      <td>1</td>\n",
       "      <td>a</td>\n",
       "      <td>a</td>\n",
       "      <td>310.0</td>\n",
       "      <td>12</td>\n",
       "      <td>2013</td>\n",
       "      <td>0</td>\n",
       "      <td>0</td>\n",
       "      <td>0</td>\n",
       "      <td>0</td>\n",
       "    </tr>\n",
       "  </tbody>\n",
       "</table>\n",
       "</div>"
      ],
      "text/plain": [
       "   Store  DayOfWeek        Date  Sales  Customers  Open  Promo StateHoliday  \\\n",
       "0      1          5  2015-07-31   5263        555     1      1            0   \n",
       "1      2          5  2015-07-31   6064        625     1      1            0   \n",
       "2      3          5  2015-07-31   8314        821     1      1            0   \n",
       "3      4          5  2015-07-31  13995       1498     1      1            0   \n",
       "4      6          5  2015-07-31   5651        589     1      1            0   \n",
       "\n",
       "   SchoolHoliday StoreType Assortment  CompetitionDistance  \\\n",
       "0              1         c          a               1270.0   \n",
       "1              1         a          a                570.0   \n",
       "2              1         a          a              14130.0   \n",
       "3              1         c          c                620.0   \n",
       "4              1         a          a                310.0   \n",
       "\n",
       "   CompetitionOpenSinceMonth  CompetitionOpenSinceYear  Promo2  \\\n",
       "0                          9                      2008       0   \n",
       "1                         11                      2007       1   \n",
       "2                         12                      2006       1   \n",
       "3                          9                      2009       0   \n",
       "4                         12                      2013       0   \n",
       "\n",
       "   Promo2SinceWeek  Promo2SinceYear    PromoInterval  \n",
       "0                0                0                0  \n",
       "1               13             2010  Jan,Apr,Jul,Oct  \n",
       "2               14             2011  Jan,Apr,Jul,Oct  \n",
       "3                0                0                0  \n",
       "4                0                0                0  "
      ]
     },
     "execution_count": 7,
     "metadata": {},
     "output_type": "execute_result"
    }
   ],
   "source": [
    "df_train.head()"
   ]
  },
  {
   "cell_type": "code",
   "execution_count": 8,
   "id": "04383776",
   "metadata": {},
   "outputs": [
    {
     "data": {
      "text/html": [
       "<div>\n",
       "<style scoped>\n",
       "    .dataframe tbody tr th:only-of-type {\n",
       "        vertical-align: middle;\n",
       "    }\n",
       "\n",
       "    .dataframe tbody tr th {\n",
       "        vertical-align: top;\n",
       "    }\n",
       "\n",
       "    .dataframe thead th {\n",
       "        text-align: right;\n",
       "    }\n",
       "</style>\n",
       "<table border=\"1\" class=\"dataframe\">\n",
       "  <thead>\n",
       "    <tr style=\"text-align: right;\">\n",
       "      <th></th>\n",
       "      <th>Store</th>\n",
       "      <th>DayOfWeek</th>\n",
       "      <th>Date</th>\n",
       "      <th>Sales</th>\n",
       "      <th>Customers</th>\n",
       "      <th>Open</th>\n",
       "      <th>Promo</th>\n",
       "      <th>StateHoliday</th>\n",
       "      <th>SchoolHoliday</th>\n",
       "      <th>StoreType</th>\n",
       "      <th>Assortment</th>\n",
       "      <th>CompetitionDistance</th>\n",
       "      <th>CompetitionOpenSinceMonth</th>\n",
       "      <th>CompetitionOpenSinceYear</th>\n",
       "      <th>Promo2</th>\n",
       "      <th>Promo2SinceWeek</th>\n",
       "      <th>Promo2SinceYear</th>\n",
       "      <th>PromoInterval</th>\n",
       "    </tr>\n",
       "  </thead>\n",
       "  <tbody>\n",
       "    <tr>\n",
       "      <th>927984</th>\n",
       "      <td>1111</td>\n",
       "      <td>2</td>\n",
       "      <td>2013-01-01</td>\n",
       "      <td>0</td>\n",
       "      <td>0</td>\n",
       "      <td>0</td>\n",
       "      <td>0</td>\n",
       "      <td>a</td>\n",
       "      <td>1</td>\n",
       "      <td>a</td>\n",
       "      <td>a</td>\n",
       "      <td>1900.0</td>\n",
       "      <td>6</td>\n",
       "      <td>2014</td>\n",
       "      <td>1</td>\n",
       "      <td>31</td>\n",
       "      <td>2013</td>\n",
       "      <td>Jan,Apr,Jul,Oct</td>\n",
       "    </tr>\n",
       "    <tr>\n",
       "      <th>927985</th>\n",
       "      <td>1112</td>\n",
       "      <td>2</td>\n",
       "      <td>2013-01-01</td>\n",
       "      <td>0</td>\n",
       "      <td>0</td>\n",
       "      <td>0</td>\n",
       "      <td>0</td>\n",
       "      <td>a</td>\n",
       "      <td>1</td>\n",
       "      <td>c</td>\n",
       "      <td>c</td>\n",
       "      <td>1880.0</td>\n",
       "      <td>4</td>\n",
       "      <td>2006</td>\n",
       "      <td>0</td>\n",
       "      <td>0</td>\n",
       "      <td>0</td>\n",
       "      <td>0</td>\n",
       "    </tr>\n",
       "    <tr>\n",
       "      <th>927986</th>\n",
       "      <td>1113</td>\n",
       "      <td>2</td>\n",
       "      <td>2013-01-01</td>\n",
       "      <td>0</td>\n",
       "      <td>0</td>\n",
       "      <td>0</td>\n",
       "      <td>0</td>\n",
       "      <td>a</td>\n",
       "      <td>1</td>\n",
       "      <td>a</td>\n",
       "      <td>c</td>\n",
       "      <td>9260.0</td>\n",
       "      <td>9</td>\n",
       "      <td>2013</td>\n",
       "      <td>0</td>\n",
       "      <td>0</td>\n",
       "      <td>0</td>\n",
       "      <td>0</td>\n",
       "    </tr>\n",
       "    <tr>\n",
       "      <th>927987</th>\n",
       "      <td>1114</td>\n",
       "      <td>2</td>\n",
       "      <td>2013-01-01</td>\n",
       "      <td>0</td>\n",
       "      <td>0</td>\n",
       "      <td>0</td>\n",
       "      <td>0</td>\n",
       "      <td>a</td>\n",
       "      <td>1</td>\n",
       "      <td>a</td>\n",
       "      <td>c</td>\n",
       "      <td>870.0</td>\n",
       "      <td>9</td>\n",
       "      <td>2013</td>\n",
       "      <td>0</td>\n",
       "      <td>0</td>\n",
       "      <td>0</td>\n",
       "      <td>0</td>\n",
       "    </tr>\n",
       "    <tr>\n",
       "      <th>927988</th>\n",
       "      <td>1115</td>\n",
       "      <td>2</td>\n",
       "      <td>2013-01-01</td>\n",
       "      <td>0</td>\n",
       "      <td>0</td>\n",
       "      <td>0</td>\n",
       "      <td>0</td>\n",
       "      <td>a</td>\n",
       "      <td>1</td>\n",
       "      <td>d</td>\n",
       "      <td>c</td>\n",
       "      <td>5350.0</td>\n",
       "      <td>9</td>\n",
       "      <td>2014</td>\n",
       "      <td>1</td>\n",
       "      <td>22</td>\n",
       "      <td>2012</td>\n",
       "      <td>Mar,Jun,Sept,Dec</td>\n",
       "    </tr>\n",
       "  </tbody>\n",
       "</table>\n",
       "</div>"
      ],
      "text/plain": [
       "        Store  DayOfWeek        Date  Sales  Customers  Open  Promo  \\\n",
       "927984   1111          2  2013-01-01      0          0     0      0   \n",
       "927985   1112          2  2013-01-01      0          0     0      0   \n",
       "927986   1113          2  2013-01-01      0          0     0      0   \n",
       "927987   1114          2  2013-01-01      0          0     0      0   \n",
       "927988   1115          2  2013-01-01      0          0     0      0   \n",
       "\n",
       "       StateHoliday  SchoolHoliday StoreType Assortment  CompetitionDistance  \\\n",
       "927984            a              1         a          a               1900.0   \n",
       "927985            a              1         c          c               1880.0   \n",
       "927986            a              1         a          c               9260.0   \n",
       "927987            a              1         a          c                870.0   \n",
       "927988            a              1         d          c               5350.0   \n",
       "\n",
       "        CompetitionOpenSinceMonth  CompetitionOpenSinceYear  Promo2  \\\n",
       "927984                          6                      2014       1   \n",
       "927985                          4                      2006       0   \n",
       "927986                          9                      2013       0   \n",
       "927987                          9                      2013       0   \n",
       "927988                          9                      2014       1   \n",
       "\n",
       "        Promo2SinceWeek  Promo2SinceYear     PromoInterval  \n",
       "927984               31             2013   Jan,Apr,Jul,Oct  \n",
       "927985                0                0                 0  \n",
       "927986                0                0                 0  \n",
       "927987                0                0                 0  \n",
       "927988               22             2012  Mar,Jun,Sept,Dec  "
      ]
     },
     "execution_count": 8,
     "metadata": {},
     "output_type": "execute_result"
    }
   ],
   "source": [
    "df_train.tail()"
   ]
  },
  {
   "cell_type": "code",
   "execution_count": 9,
   "id": "43bd2bd6",
   "metadata": {},
   "outputs": [
    {
     "name": "stdout",
     "output_type": "stream",
     "text": [
      "<class 'pandas.core.frame.DataFrame'>\n",
      "RangeIndex: 927989 entries, 0 to 927988\n",
      "Data columns (total 18 columns):\n",
      " #   Column                     Non-Null Count   Dtype  \n",
      "---  ------                     --------------   -----  \n",
      " 0   Store                      927989 non-null  int64  \n",
      " 1   DayOfWeek                  927989 non-null  int64  \n",
      " 2   Date                       927989 non-null  object \n",
      " 3   Sales                      927989 non-null  int64  \n",
      " 4   Customers                  927989 non-null  int64  \n",
      " 5   Open                       927989 non-null  int64  \n",
      " 6   Promo                      927989 non-null  int64  \n",
      " 7   StateHoliday               927989 non-null  object \n",
      " 8   SchoolHoliday              927989 non-null  int64  \n",
      " 9   StoreType                  927989 non-null  object \n",
      " 10  Assortment                 927989 non-null  object \n",
      " 11  CompetitionDistance        927989 non-null  float64\n",
      " 12  CompetitionOpenSinceMonth  927989 non-null  int64  \n",
      " 13  CompetitionOpenSinceYear   927989 non-null  int64  \n",
      " 14  Promo2                     927989 non-null  int64  \n",
      " 15  Promo2SinceWeek            927989 non-null  int64  \n",
      " 16  Promo2SinceYear            927989 non-null  int64  \n",
      " 17  PromoInterval              927989 non-null  object \n",
      "dtypes: float64(1), int64(12), object(5)\n",
      "memory usage: 127.4+ MB\n"
     ]
    }
   ],
   "source": [
    "df_train.info()"
   ]
  },
  {
   "cell_type": "code",
   "execution_count": 10,
   "id": "b67012c3",
   "metadata": {},
   "outputs": [
    {
     "name": "stdout",
     "output_type": "stream",
     "text": [
      "<class 'pandas.core.frame.DataFrame'>\n",
      "RangeIndex: 41088 entries, 0 to 41087\n",
      "Data columns (total 8 columns):\n",
      " #   Column         Non-Null Count  Dtype  \n",
      "---  ------         --------------  -----  \n",
      " 0   Id             41088 non-null  int64  \n",
      " 1   Store          41088 non-null  int64  \n",
      " 2   DayOfWeek      41088 non-null  int64  \n",
      " 3   Date           41088 non-null  object \n",
      " 4   Open           41077 non-null  float64\n",
      " 5   Promo          41088 non-null  int64  \n",
      " 6   StateHoliday   41088 non-null  object \n",
      " 7   SchoolHoliday  41088 non-null  int64  \n",
      "dtypes: float64(1), int64(5), object(2)\n",
      "memory usage: 2.5+ MB\n"
     ]
    }
   ],
   "source": [
    "df_test.info()"
   ]
  },
  {
   "cell_type": "code",
   "execution_count": 11,
   "id": "dcb0005d",
   "metadata": {},
   "outputs": [
    {
     "data": {
      "text/plain": [
       "StateHoliday\n",
       "0    538588\n",
       "0    360448\n",
       "a     18903\n",
       "b      6227\n",
       "c      3823\n",
       "Name: count, dtype: int64"
      ]
     },
     "execution_count": 11,
     "metadata": {},
     "output_type": "execute_result"
    }
   ],
   "source": [
    "df_train[\"StateHoliday\"].value_counts()\n"
   ]
  },
  {
   "cell_type": "code",
   "execution_count": 12,
   "id": "82e901b3",
   "metadata": {},
   "outputs": [],
   "source": [
    "df_train['StateHoliday'] = df_train['StateHoliday'].astype(str)"
   ]
  },
  {
   "cell_type": "code",
   "execution_count": 13,
   "id": "89cc10f8",
   "metadata": {},
   "outputs": [
    {
     "data": {
      "text/plain": [
       "Index(['Store', 'DayOfWeek', 'Date', 'Sales', 'Customers', 'Open', 'Promo',\n",
       "       'StateHoliday', 'SchoolHoliday', 'StoreType', 'Assortment',\n",
       "       'CompetitionDistance', 'CompetitionOpenSinceMonth',\n",
       "       'CompetitionOpenSinceYear', 'Promo2', 'Promo2SinceWeek',\n",
       "       'Promo2SinceYear', 'PromoInterval'],\n",
       "      dtype='object')"
      ]
     },
     "execution_count": 13,
     "metadata": {},
     "output_type": "execute_result"
    }
   ],
   "source": [
    "df_train.columns"
   ]
  },
  {
   "cell_type": "code",
   "execution_count": 14,
   "id": "5b4e1976",
   "metadata": {},
   "outputs": [
    {
     "data": {
      "text/plain": [
       "Index(['Id', 'Store', 'DayOfWeek', 'Date', 'Open', 'Promo', 'StateHoliday',\n",
       "       'SchoolHoliday'],\n",
       "      dtype='object')"
      ]
     },
     "execution_count": 14,
     "metadata": {},
     "output_type": "execute_result"
    }
   ],
   "source": [
    "df_test.columns"
   ]
  },
  {
   "cell_type": "code",
   "execution_count": 15,
   "id": "fc65dfd5",
   "metadata": {},
   "outputs": [
    {
     "data": {
      "text/plain": [
       "PromoInterval\n",
       "0                   438044\n",
       "Jan,Apr,Jul,Oct     281507\n",
       "Feb,May,Aug,Nov     115263\n",
       "Mar,Jun,Sept,Dec     93175\n",
       "Name: count, dtype: int64"
      ]
     },
     "execution_count": 15,
     "metadata": {},
     "output_type": "execute_result"
    }
   ],
   "source": [
    "df_train[\"PromoInterval\"].value_counts()"
   ]
  },
  {
   "cell_type": "code",
   "execution_count": 16,
   "id": "8eec53fb",
   "metadata": {},
   "outputs": [
    {
     "data": {
      "text/plain": [
       "0"
      ]
     },
     "execution_count": 16,
     "metadata": {},
     "output_type": "execute_result"
    }
   ],
   "source": [
    "df_train[\"CompetitionDistance\"].isnull().sum()"
   ]
  },
  {
   "cell_type": "code",
   "execution_count": 17,
   "id": "9d31477b",
   "metadata": {},
   "outputs": [],
   "source": [
    "df_train['Date'] = pd.to_datetime(df_train['Date'])\n",
    "df_test['Date'] = pd.to_datetime(df_test['Date'])"
   ]
  },
  {
   "cell_type": "code",
   "execution_count": 18,
   "id": "8daaa883",
   "metadata": {},
   "outputs": [],
   "source": [
    "##adding features:\n",
    "\n",
    "# Weekday (0 = Monday, 6 = Sunday)\n",
    "df_train['Weekday'] = df_train['Date'].dt.weekday"
   ]
  },
  {
   "cell_type": "code",
   "execution_count": 19,
   "id": "e14ea68a",
   "metadata": {},
   "outputs": [],
   "source": [
    "# Weekday (0 = Monday, 6 = Sunday)\n",
    "df_test['Weekday'] = df_test['Date'].dt.weekday"
   ]
  },
  {
   "cell_type": "code",
   "execution_count": 20,
   "id": "19eb81a8",
   "metadata": {},
   "outputs": [],
   "source": [
    " # Weekend indicator\n",
    "df_train['IsWeekend'] = df_train['Weekday'].isin([5, 6]).astype(int)  # 5 = Saturday, 6 = Sunday\n",
    "df_test['IsWeekend'] = df_test['Weekday'].isin([5, 6]).astype(int)  # 5 = Saturday, 6 = Sunday\n"
   ]
  },
  {
   "cell_type": "code",
   "execution_count": 21,
   "id": "66779f78",
   "metadata": {},
   "outputs": [],
   "source": [
    "# Holiday indicators\n",
    "df_train['IsStateHoliday'] = df_train['StateHoliday'].apply(lambda x: 1 if x != '0' else 0)\n",
    "df_train['IsSchoolHoliday'] = df_train['SchoolHoliday'].astype(int)  # Convert to int directly"
   ]
  },
  {
   "cell_type": "code",
   "execution_count": 22,
   "id": "d0071a91",
   "metadata": {},
   "outputs": [],
   "source": [
    "# Holiday indicators\n",
    "df_test['IsStateHoliday'] = df_test['StateHoliday'].apply(lambda x: 1 if x != '0' else 0)\n",
    "df_test['IsSchoolHoliday'] = df_test['SchoolHoliday'].astype(int)  # Convert to int directly"
   ]
  },
  {
   "cell_type": "code",
   "execution_count": 23,
   "id": "98fe8918",
   "metadata": {},
   "outputs": [],
   "source": [
    "# Combine holiday indicators\n",
    "df_train['IsHoliday'] = df_train['IsStateHoliday'] | df_train['IsSchoolHoliday']\n",
    "df_test['IsHoliday'] = df_test['IsStateHoliday'] | df_test['IsSchoolHoliday']"
   ]
  },
  {
   "cell_type": "code",
   "execution_count": 24,
   "id": "67af0443",
   "metadata": {},
   "outputs": [],
   "source": [
    "df_train['IsBeginningOfMonth'] = df_train['Date'].dt.day <= 7\n",
    "df_train['IsMidMonth'] = (df_train['Date'].dt.day > 7) & (df_train['Date'].dt.day <= 14)\n",
    "df_train['IsEndOfMonth'] = df_train['Date'].dt.day > (df_train['Date'].dt.days_in_month - 7)\n"
   ]
  },
  {
   "cell_type": "code",
   "execution_count": 25,
   "id": "5808a634",
   "metadata": {},
   "outputs": [],
   "source": [
    "df_test['IsBeginningOfMonth'] = df_test['Date'].dt.day <= 7\n",
    "df_test['IsMidMonth'] = (df_test['Date'].dt.day > 7) & (df_train['Date'].dt.day <= 14)\n",
    "df_test['IsEndOfMonth'] = df_test['Date'].dt.day > (df_test['Date'].dt.days_in_month - 7)\n"
   ]
  },
  {
   "cell_type": "code",
   "execution_count": 26,
   "id": "a43f3377",
   "metadata": {},
   "outputs": [],
   "source": [
    "##more additional features:\n",
    "\n",
    "df_train['Quarter'] = df_train['Date'].dt.quarter\n",
    "df_train['Year'] = df_train['Date'].dt.year\n",
    "df_train['Month'] = df_train['Date'].dt.month\n",
    "df_train['Day'] = df_train['Date'].dt.day"
   ]
  },
  {
   "cell_type": "code",
   "execution_count": null,
   "id": "d85889e4",
   "metadata": {},
   "outputs": [],
   "source": []
  },
  {
   "cell_type": "code",
   "execution_count": 27,
   "id": "3eaff0f9",
   "metadata": {},
   "outputs": [
    {
     "data": {
      "text/plain": [
       "Index(['Store', 'DayOfWeek', 'Date', 'Sales', 'Customers', 'Open', 'Promo',\n",
       "       'StateHoliday', 'SchoolHoliday', 'StoreType', 'Assortment',\n",
       "       'CompetitionDistance', 'CompetitionOpenSinceMonth',\n",
       "       'CompetitionOpenSinceYear', 'Promo2', 'Promo2SinceWeek',\n",
       "       'Promo2SinceYear', 'PromoInterval', 'Weekday', 'IsWeekend',\n",
       "       'IsStateHoliday', 'IsSchoolHoliday', 'IsHoliday', 'IsBeginningOfMonth',\n",
       "       'IsMidMonth', 'IsEndOfMonth', 'Quarter', 'Year', 'Month', 'Day'],\n",
       "      dtype='object')"
      ]
     },
     "execution_count": 27,
     "metadata": {},
     "output_type": "execute_result"
    }
   ],
   "source": [
    "df_train.columns"
   ]
  },
  {
   "cell_type": "code",
   "execution_count": null,
   "id": "d44a75fe",
   "metadata": {},
   "outputs": [],
   "source": []
  },
  {
   "cell_type": "code",
   "execution_count": 28,
   "id": "6f4609bd",
   "metadata": {},
   "outputs": [
    {
     "data": {
      "text/plain": [
       "Index(['Id', 'Store', 'DayOfWeek', 'Date', 'Open', 'Promo', 'StateHoliday',\n",
       "       'SchoolHoliday', 'Weekday', 'IsWeekend', 'IsStateHoliday',\n",
       "       'IsSchoolHoliday', 'IsHoliday', 'IsBeginningOfMonth', 'IsMidMonth',\n",
       "       'IsEndOfMonth'],\n",
       "      dtype='object')"
      ]
     },
     "execution_count": 28,
     "metadata": {},
     "output_type": "execute_result"
    }
   ],
   "source": [
    "df_test.columns"
   ]
  },
  {
   "cell_type": "code",
   "execution_count": 29,
   "id": "c8bc482c-d4a1-4526-b5d6-463c26d5c4e0",
   "metadata": {},
   "outputs": [
    {
     "data": {
      "text/plain": [
       "array([1, 0], dtype=int64)"
      ]
     },
     "execution_count": 29,
     "metadata": {},
     "output_type": "execute_result"
    }
   ],
   "source": [
    "df_train['Open'].unique()"
   ]
  },
  {
   "cell_type": "code",
   "execution_count": 30,
   "id": "3565782d",
   "metadata": {},
   "outputs": [
    {
     "data": {
      "text/plain": [
       "array([ 1., nan,  0.])"
      ]
     },
     "execution_count": 30,
     "metadata": {},
     "output_type": "execute_result"
    }
   ],
   "source": [
    "df_test['Open'].unique()"
   ]
  },
  {
   "cell_type": "code",
   "execution_count": 31,
   "id": "c9ca7fb7",
   "metadata": {},
   "outputs": [
    {
     "name": "stdout",
     "output_type": "stream",
     "text": [
      "Open\n",
      "1    35104\n",
      "0     5984\n",
      "Name: count, dtype: int64\n"
     ]
    }
   ],
   "source": [
    "# Calculate the mode of the 'Open' column\n",
    "mode_value = df_test['Open'].mode()[0]\n",
    "\n",
    "# Fill missing values with the mode\n",
    "df_test['Open'].fillna(mode_value, inplace=True)\n",
    "\n",
    "# Convert the 'Open' column to integer\n",
    "df_test['Open'] = df_test['Open'].astype(int)\n",
    "\n",
    "# Verify the transformation and value counts\n",
    "print(df_test['Open'].value_counts())\n"
   ]
  },
  {
   "cell_type": "code",
   "execution_count": 32,
   "id": "1a11883c",
   "metadata": {},
   "outputs": [
    {
     "name": "stdout",
     "output_type": "stream",
     "text": [
      "Filtered columns in df_train: Index(['Store', 'DayOfWeek', 'Date', 'Open', 'Promo', 'StateHoliday',\n",
      "       'SchoolHoliday', 'Weekday', 'IsWeekend', 'IsStateHoliday',\n",
      "       'IsSchoolHoliday', 'IsHoliday', 'IsBeginningOfMonth', 'IsMidMonth',\n",
      "       'IsEndOfMonth'],\n",
      "      dtype='object')\n"
     ]
    }
   ],
   "source": [
    "# Get the columns present in both df_train and df_test\n",
    "common_columns = df_train.columns.intersection(df_test.columns)\n",
    "\n",
    "# Drop the columns not present in df_test from df_train\n",
    "df_train_filtered = df_train[common_columns]\n",
    "\n",
    "# Now df_train_filtered contains only the columns common to both df_train and df_test\n",
    "print(\"Filtered columns in df_train:\", df_train_filtered.columns)"
   ]
  },
  {
   "cell_type": "code",
   "execution_count": 33,
   "id": "752fe6a3",
   "metadata": {},
   "outputs": [
    {
     "name": "stdout",
     "output_type": "stream",
     "text": [
      "<class 'pandas.core.frame.DataFrame'>\n",
      "RangeIndex: 927989 entries, 0 to 927988\n",
      "Data columns (total 15 columns):\n",
      " #   Column              Non-Null Count   Dtype         \n",
      "---  ------              --------------   -----         \n",
      " 0   Store               927989 non-null  int64         \n",
      " 1   DayOfWeek           927989 non-null  int64         \n",
      " 2   Date                927989 non-null  datetime64[ns]\n",
      " 3   Open                927989 non-null  int64         \n",
      " 4   Promo               927989 non-null  int64         \n",
      " 5   StateHoliday        927989 non-null  object        \n",
      " 6   SchoolHoliday       927989 non-null  int64         \n",
      " 7   Weekday             927989 non-null  int32         \n",
      " 8   IsWeekend           927989 non-null  int32         \n",
      " 9   IsStateHoliday      927989 non-null  int64         \n",
      " 10  IsSchoolHoliday     927989 non-null  int32         \n",
      " 11  IsHoliday           927989 non-null  int64         \n",
      " 12  IsBeginningOfMonth  927989 non-null  bool          \n",
      " 13  IsMidMonth          927989 non-null  bool          \n",
      " 14  IsEndOfMonth        927989 non-null  bool          \n",
      "dtypes: bool(3), datetime64[ns](1), int32(3), int64(7), object(1)\n",
      "memory usage: 77.0+ MB\n"
     ]
    }
   ],
   "source": [
    "df_train_filtered.info()"
   ]
  },
  {
   "cell_type": "code",
   "execution_count": 34,
   "id": "4a41b7f7",
   "metadata": {},
   "outputs": [],
   "source": [
    "df_train_filtered.to_csv(\"df_train_filtered.csv\", index=False)"
   ]
  },
  {
   "cell_type": "code",
   "execution_count": 40,
   "id": "a04c8dfe",
   "metadata": {},
   "outputs": [
    {
     "name": "stdout",
     "output_type": "stream",
     "text": [
      "<class 'pandas.core.frame.DataFrame'>\n",
      "RangeIndex: 41088 entries, 0 to 41087\n",
      "Data columns (total 20 columns):\n",
      " #   Column              Non-Null Count  Dtype         \n",
      "---  ------              --------------  -----         \n",
      " 0   Id                  41088 non-null  int64         \n",
      " 1   Store               41088 non-null  int64         \n",
      " 2   DayOfWeek           41088 non-null  int64         \n",
      " 3   Date                41088 non-null  datetime64[ns]\n",
      " 4   Open                41088 non-null  int32         \n",
      " 5   Promo               41088 non-null  int64         \n",
      " 6   StateHoliday        41088 non-null  object        \n",
      " 7   SchoolHoliday       41088 non-null  int64         \n",
      " 8   Weekday             41088 non-null  int32         \n",
      " 9   IsWeekend           41088 non-null  int32         \n",
      " 10  IsStateHoliday      41088 non-null  int64         \n",
      " 11  IsSchoolHoliday     41088 non-null  int32         \n",
      " 12  IsHoliday           41088 non-null  int64         \n",
      " 13  IsBeginningOfMonth  41088 non-null  bool          \n",
      " 14  IsMidMonth          41088 non-null  bool          \n",
      " 15  IsEndOfMonth        41088 non-null  bool          \n",
      " 16  Quarter             41088 non-null  int32         \n",
      " 17  Year                41088 non-null  int32         \n",
      " 18  Month               41088 non-null  int32         \n",
      " 19  Day                 41088 non-null  int32         \n",
      "dtypes: bool(3), datetime64[ns](1), int32(8), int64(7), object(1)\n",
      "memory usage: 4.2+ MB\n"
     ]
    }
   ],
   "source": [
    "df_test.info()"
   ]
  },
  {
   "cell_type": "code",
   "execution_count": 46,
   "id": "71e94d89",
   "metadata": {},
   "outputs": [],
   "source": [
    "# Save the DataFrame to a specific directory\n",
    "df_test.to_csv('output_file.csv', columns=['Date',  'IsHoliday', 'IsWeekend',  'Promo'], index=False)\n"
   ]
  },
  {
   "cell_type": "code",
   "execution_count": 34,
   "id": "d2b7ba3b",
   "metadata": {},
   "outputs": [
    {
     "name": "stderr",
     "output_type": "stream",
     "text": [
      "C:\\Users\\Lenovo\\AppData\\Local\\Temp\\ipykernel_11212\\3580741570.py:5: SettingWithCopyWarning: \n",
      "A value is trying to be set on a copy of a slice from a DataFrame.\n",
      "Try using .loc[row_indexer,col_indexer] = value instead\n",
      "\n",
      "See the caveats in the documentation: https://pandas.pydata.org/pandas-docs/stable/user_guide/indexing.html#returning-a-view-versus-a-copy\n",
      "  df_train_filtered['StateHoliday'] = le.fit_transform(df_train_filtered['StateHoliday'].astype(str))\n"
     ]
    }
   ],
   "source": [
    "# LabelEncoding\n",
    "le = LabelEncoder()\n",
    "\n",
    "# Encoding to 'StateHoliday' column in both df_train and df_test\n",
    "df_train_filtered['StateHoliday'] = le.fit_transform(df_train_filtered['StateHoliday'].astype(str))\n",
    "df_test['StateHoliday'] = le.transform(df_test['StateHoliday'].astype(str))"
   ]
  },
  {
   "cell_type": "code",
   "execution_count": 33,
   "id": "9f4d7156",
   "metadata": {},
   "outputs": [
    {
     "data": {
      "image/png": "[encoded data removed]",
      "text/plain": [
       "<Figure size 1000x600 with 1 Axes>"
      ]
     },
     "metadata": {},
     "output_type": "display_data"
    },
    {
     "name": "stdout",
     "output_type": "stream",
     "text": [
      "Number of outliers in Sales column: 812\n",
      "Number of outliers detected by IQR in Sales column: 9545\n"
     ]
    }
   ],
   "source": [
    "# Importing necessary libraries\n",
    "import matplotlib.pyplot as plt\n",
    "import seaborn as sns\n",
    "from scipy import stats\n",
    "import numpy as np\n",
    "\n",
    "# Assuming `df_train` contains the `Sales` column\n",
    "\n",
    "# Visualize with a boxplot\n",
    "plt.figure(figsize=(10, 6))\n",
    "sns.boxplot(y=df_train['Sales'])\n",
    "plt.title('Boxplot for Sales')\n",
    "plt.show()\n",
    "\n",
    "# Using Z-score to detect outliers\n",
    "z_scores_sales = np.abs(stats.zscore(df_train['Sales']))\n",
    "\n",
    "# Identifying outliers based on Z-score (Z > 3 considered outliers)\n",
    "outliers_sales = np.where(z_scores_sales > 3)\n",
    "\n",
    "print(f\"Number of outliers in Sales column: {len(outliers_sales[0])}\")\n",
    "\n",
    "# Using IQR method\n",
    "def detect_outliers_iqr(df, column):\n",
    "    Q1 = df[column].quantile(0.25)\n",
    "    Q3 = df[column].quantile(0.75)\n",
    "    IQR = Q3 - Q1\n",
    "    lower_bound = Q1 - 1.5 * IQR\n",
    "    upper_bound = Q3 + 1.5 * IQR\n",
    "    return df[(df[column] < lower_bound) | (df[column] > upper_bound)]\n",
    "\n",
    "# Detecting outliers in Sales using IQR\n",
    "outliers_iqr_sales = detect_outliers_iqr(df_train, 'Sales')\n",
    "print(f\"Number of outliers detected by IQR in Sales column: {len(outliers_iqr_sales)}\")\n"
   ]
  },
  {
   "cell_type": "code",
   "execution_count": 34,
   "id": "29b4e1e0",
   "metadata": {},
   "outputs": [
    {
     "data": {
      "image/png": "[encoded data removed]",
      "text/plain": [
       "<Figure size 1000x600 with 1 Axes>"
      ]
     },
     "metadata": {},
     "output_type": "display_data"
    }
   ],
   "source": [
    "# Capping the outliers using IQR\n",
    "Q1 = df_train['Sales'].quantile(0.25)\n",
    "Q3 = df_train['Sales'].quantile(0.75)\n",
    "IQR = Q3 - Q1\n",
    "lower_bound = Q1 - 1.5 * IQR\n",
    "upper_bound = Q3 + 1.5 * IQR\n",
    "\n",
    "# Cap the 'Sales' column values at the calculated bounds\n",
    "df_train_capped = df_train.copy()\n",
    "df_train_capped['Sales'] = np.where(df_train_capped['Sales'] > upper_bound, upper_bound, \n",
    "                                    np.where(df_train_capped['Sales'] < lower_bound, lower_bound, df_train_capped['Sales']))\n",
    "\n",
    "# Plotting the box plot after capping the outliers\n",
    "plt.figure(figsize=(10, 6))\n",
    "sns.boxplot(df_train_capped['Sales'])\n",
    "plt.title('Box Plot of Sales after Capping Outliers')\n",
    "plt.show()\n"
   ]
  },
  {
   "cell_type": "code",
   "execution_count": 35,
   "id": "dcaa7ad8",
   "metadata": {},
   "outputs": [
    {
     "name": "stdout",
     "output_type": "stream",
     "text": [
      "RandomForest trained successfully.\n",
      "GradientBoosting trained successfully.\n",
      "XGBoost trained successfully.\n",
      "[LightGBM] [Info] Auto-choosing row-wise multi-threading, the overhead of testing was 0.143306 seconds.\n",
      "You can set `force_row_wise=true` to remove the overhead.\n",
      "And if memory is not enough, you can set `force_col_wise=true`.\n",
      "[LightGBM] [Info] Total Bins 360\n",
      "[LightGBM] [Info] Number of data points in the train set: 927989, number of used features: 18\n",
      "[LightGBM] [Info] Start training from score 5453.445662\n",
      "LightGBM trained successfully.\n",
      "CatBoost trained successfully.\n",
      "LinearRegression trained successfully.\n",
      "Ridge trained successfully.\n",
      "Lasso trained successfully.\n",
      "ElasticNet trained successfully.\n"
     ]
    }
   ],
   "source": [
    "# Define features and target\n",
    "X_train = df_train_filtered.drop(columns=['Date'])  # Replace 'Sales' with your target column\n",
    "y_train = df_train_capped['Sales']\n",
    "\n",
    "# Define models to evaluate\n",
    "models = {\n",
    "    'RandomForest': RandomForestRegressor(random_state=42),\n",
    "    'GradientBoosting': GradientBoostingRegressor(random_state=42),\n",
    "    'XGBoost': XGBRegressor(random_state=42),\n",
    "    'LightGBM': LGBMRegressor(random_state=42),\n",
    "    'CatBoost': CatBoostRegressor(silent=True, random_state=42),\n",
    "    'LinearRegression': LinearRegression(),\n",
    "    'Ridge': Ridge(),\n",
    "    'Lasso': Lasso(),\n",
    "    'ElasticNet': ElasticNet()\n",
    "}\n",
    "\n",
    "\n",
    "# Loop through each model\n",
    "for model_name, model in models.items():\n",
    "    # Create a pipeline for preprocessing and model fitting\n",
    "    pipeline = Pipeline([\n",
    "        ('imputer', SimpleImputer(strategy='median')),\n",
    "        ('scaler', StandardScaler()),\n",
    "        ('model', model)\n",
    "    ])\n",
    "    \n",
    "    # Train the model on the training data\n",
    "    pipeline.fit(X_train, y_train)\n",
    "    \n",
    "    # Optionally, print out the model name and a confirmation of training\n",
    "    print(f'{model_name} trained successfully.')"
   ]
  },
  {
   "cell_type": "code",
   "execution_count": 36,
   "id": "7b61d192",
   "metadata": {},
   "outputs": [
    {
     "name": "stdout",
     "output_type": "stream",
     "text": [
      "\n",
      "RandomForest Performance:\n",
      "Mean Absolute Error (MAE): 858.46\n",
      "Mean Squared Error (MSE): 1882312.08\n",
      "R-Squared (R²): 0.83\n",
      "\n",
      "GradientBoosting Performance:\n",
      "Mean Absolute Error (MAE): 1368.49\n",
      "Mean Squared Error (MSE): 3561929.20\n",
      "R-Squared (R²): 0.69\n",
      "\n",
      "XGBoost Performance:\n",
      "Mean Absolute Error (MAE): 1253.06\n",
      "Mean Squared Error (MSE): 3045071.97\n",
      "R-Squared (R²): 0.73\n",
      "[LightGBM] [Info] Auto-choosing row-wise multi-threading, the overhead of testing was 0.138334 seconds.\n",
      "You can set `force_row_wise=true` to remove the overhead.\n",
      "And if memory is not enough, you can set `force_col_wise=true`.\n",
      "[LightGBM] [Info] Total Bins 360\n",
      "[LightGBM] [Info] Number of data points in the train set: 742391, number of used features: 18\n",
      "[LightGBM] [Info] Start training from score 5451.758933\n",
      "\n",
      "LightGBM Performance:\n",
      "Mean Absolute Error (MAE): 1274.94\n",
      "Mean Squared Error (MSE): 3160205.84\n",
      "R-Squared (R²): 0.72\n",
      "\n",
      "CatBoost Performance:\n",
      "Mean Absolute Error (MAE): 1231.03\n",
      "Mean Squared Error (MSE): 2968352.83\n",
      "R-Squared (R²): 0.74\n",
      "\n",
      "LinearRegression Performance:\n",
      "Mean Absolute Error (MAE): 1498.18\n",
      "Mean Squared Error (MSE): 4098991.38\n",
      "R-Squared (R²): 0.64\n",
      "\n",
      "Ridge Performance:\n",
      "Mean Absolute Error (MAE): 1498.18\n",
      "Mean Squared Error (MSE): 4098991.38\n",
      "R-Squared (R²): 0.64\n",
      "\n",
      "Lasso Performance:\n",
      "Mean Absolute Error (MAE): 1497.78\n",
      "Mean Squared Error (MSE): 4099111.96\n",
      "R-Squared (R²): 0.64\n",
      "\n",
      "ElasticNet Performance:\n",
      "Mean Absolute Error (MAE): 1703.78\n",
      "Mean Squared Error (MSE): 4659256.63\n",
      "R-Squared (R²): 0.59\n"
     ]
    }
   ],
   "source": [
    "# Split the training data into training and validation sets\n",
    "X_train_split, X_val_split, y_train_split, y_val_split = train_test_split(X_train, y_train, test_size=0.2, random_state=42)\n",
    "\n",
    "# Loop through each model\n",
    "for model_name, model in models.items():\n",
    "    # Create a pipeline for preprocessing and model fitting\n",
    "    pipeline = Pipeline([\n",
    "        ('imputer', SimpleImputer(strategy='median')),\n",
    "        ('scaler', StandardScaler()),\n",
    "        ('model', model)\n",
    "    ])\n",
    "    \n",
    "    # Train the model on the training data\n",
    "    pipeline.fit(X_train_split, y_train_split)\n",
    "    \n",
    "    # Make predictions on the validation data\n",
    "    y_pred = pipeline.predict(X_val_split)\n",
    "    \n",
    "    # Evaluate model performance\n",
    "    mae = mean_absolute_error(y_val_split, y_pred)\n",
    "    mse = mean_squared_error(y_val_split, y_pred)\n",
    "    r2 = r2_score(y_val_split, y_pred)\n",
    "    \n",
    "    # Print evaluation metrics\n",
    "    print(f'\\n{model_name} Performance:')\n",
    "    print(f'Mean Absolute Error (MAE): {mae:.2f}')\n",
    "    print(f'Mean Squared Error (MSE): {mse:.2f}')\n",
    "    print(f'R-Squared (R²): {r2:.2f}')\n"
   ]
  },
  {
   "cell_type": "code",
   "execution_count": 37,
   "id": "0e855d6a",
   "metadata": {},
   "outputs": [
    {
     "name": "stdout",
     "output_type": "stream",
     "text": [
      "RandomForest test predictions made successfully.\n",
      "GradientBoosting test predictions made successfully.\n",
      "XGBoost test predictions made successfully.\n",
      "[LightGBM] [Info] Auto-choosing row-wise multi-threading, the overhead of testing was 0.092196 seconds.\n",
      "You can set `force_row_wise=true` to remove the overhead.\n",
      "And if memory is not enough, you can set `force_col_wise=true`.\n",
      "[LightGBM] [Info] Total Bins 360\n",
      "[LightGBM] [Info] Number of data points in the train set: 927989, number of used features: 18\n",
      "[LightGBM] [Info] Start training from score 5453.445662\n",
      "LightGBM test predictions made successfully.\n",
      "CatBoost test predictions made successfully.\n",
      "LinearRegression test predictions made successfully.\n",
      "Ridge test predictions made successfully.\n",
      "Lasso test predictions made successfully.\n",
      "ElasticNet test predictions made successfully.\n"
     ]
    }
   ],
   "source": [
    "# Drop 'Customers' from the training set if not present in test set\n",
    "X_train = df_train_filtered.drop(columns=['Date'])  \n",
    "X_test = df_test.drop(columns=['Id', 'Date'])  # Drop 'Id' and 'Date' for prediction\n",
    "\n",
    "# Assuming df_test has no 'Sales' column but the same feature columns as X_train except 'Date'\n",
    "X_test = df_test.drop(columns=['Id', 'Date'])  # Drop 'Id' and 'Date' for prediction\n",
    "\n",
    "# Create a dictionary to store predictions from each model\n",
    "predictions = {}\n",
    "\n",
    "# Loop through each model\n",
    "for model_name, model in models.items():\n",
    "    # Create a pipeline for preprocessing and model fitting\n",
    "    pipeline = Pipeline([\n",
    "        ('imputer', SimpleImputer(strategy='median')),\n",
    "        ('scaler', StandardScaler()),\n",
    "        ('model', model)\n",
    "    ])\n",
    "    \n",
    "    # Train the model on the full training data\n",
    "    pipeline.fit(X_train, y_train)\n",
    "    \n",
    "    # Make predictions on the test data\n",
    "    y_test_pred = pipeline.predict(X_test)\n",
    "    \n",
    "    # Store predictions in the dictionary\n",
    "    predictions[model_name] = y_test_pred\n",
    "    \n",
    "    # Optionally, print a confirmation\n",
    "    print(f'{model_name} test predictions made successfully.')"
   ]
  },
  {
   "cell_type": "code",
   "execution_count": 43,
   "id": "3cc3dc56",
   "metadata": {},
   "outputs": [
    {
     "name": "stdout",
     "output_type": "stream",
     "text": [
      "Model RandomForest saved as RandomForest_20241020_191619.pkl\n",
      "Model GradientBoosting saved as GradientBoosting_20241020_191711.pkl\n",
      "Model XGBoost saved as XGBoost_20241020_191711.pkl\n",
      "Model LightGBM saved as LightGBM_20241020_191712.pkl\n",
      "Model CatBoost saved as CatBoost_20241020_191712.pkl\n",
      "Model LinearRegression saved as LinearRegression_20241020_191712.pkl\n",
      "Model Ridge saved as Ridge_20241020_191712.pkl\n",
      "Model Lasso saved as Lasso_20241020_191712.pkl\n",
      "Model ElasticNet saved as ElasticNet_20241020_191712.pkl\n"
     ]
    }
   ],
   "source": [
    "def get_timestamp():\n",
    "    return datetime.now().strftime(\"%Y%m%d_%H%M%S\")\n",
    "\n",
    "# Specify the directory where you want to save the models\n",
    "save_dir = \"path_to_save_directory\"  # Replace with your desired path\n",
    "\n",
    "# Ensure the directory exists, and if not, create it\n",
    "os.makedirs(save_dir, exist_ok=True)\n",
    "\n",
    "# Testing saving the model without the pipeline\n",
    "for model_name, model in models.items():\n",
    "    model_filename = f\"{model_name}_{get_timestamp()}.pkl\"\n",
    "    model_filepath = os.path.join(save_dir, model_filename)\n",
    "    \n",
    "    # Try saving just the model first\n",
    "    try:\n",
    "        joblib.dump(model, model_filepath)\n",
    "        print(f'Model {model_name} saved as {model_filename}')\n",
    "    except Exception as e:\n",
    "        print(f'Failed to save {model_name}: {e}')\n"
   ]
  },
  {
   "cell_type": "code",
   "execution_count": 3,
   "id": "85ae05e6",
   "metadata": {},
   "outputs": [],
   "source": [
    "# Load the saved RandomForest model and assign it to best_model\n",
    "best_model = joblib.load(r'C:\\Users\\Lenovo\\Desktop\\PROJECT 6\\path_to_save_directory\\RandomForest_20241020_191619.pkl')\n"
   ]
  },
  {
   "cell_type": "code",
   "execution_count": 41,
   "id": "59ccaf2d",
   "metadata": {},
   "outputs": [],
   "source": [
    "X_train = df_train_filtered.drop(columns=['Date'])"
   ]
  },
  {
   "cell_type": "code",
   "execution_count": 42,
   "id": "93c8bcf1",
   "metadata": {},
   "outputs": [],
   "source": [
    "# Extract feature importance from the Random Forest model\n",
    "feature_importances = best_model.feature_importances_\n",
    "\n",
    "# Create a DataFrame for easy plotting\n",
    "feature_importance_df = pd.DataFrame({\n",
    "    'Feature': X_train.columns,\n",
    "    'Importance': feature_importances\n",
    "})\n",
    "\n",
    "# Sort the DataFrame by importance\n",
    "feature_importance_df = feature_importance_df.sort_values(by='Importance', ascending=False)"
   ]
  },
  {
   "cell_type": "code",
   "execution_count": 43,
   "id": "30d15484",
   "metadata": {},
   "outputs": [
    {
     "data": {
      "text/html": [
       "<div>\n",
       "<style scoped>\n",
       "    .dataframe tbody tr th:only-of-type {\n",
       "        vertical-align: middle;\n",
       "    }\n",
       "\n",
       "    .dataframe tbody tr th {\n",
       "        vertical-align: top;\n",
       "    }\n",
       "\n",
       "    .dataframe thead th {\n",
       "        text-align: right;\n",
       "    }\n",
       "</style>\n",
       "<table border=\"1\" class=\"dataframe\">\n",
       "  <thead>\n",
       "    <tr style=\"text-align: right;\">\n",
       "      <th></th>\n",
       "      <th>Feature</th>\n",
       "      <th>Importance</th>\n",
       "    </tr>\n",
       "  </thead>\n",
       "  <tbody>\n",
       "    <tr>\n",
       "      <th>2</th>\n",
       "      <td>Open</td>\n",
       "      <td>0.557159</td>\n",
       "    </tr>\n",
       "    <tr>\n",
       "      <th>0</th>\n",
       "      <td>Store</td>\n",
       "      <td>0.287248</td>\n",
       "    </tr>\n",
       "    <tr>\n",
       "      <th>3</th>\n",
       "      <td>Promo</td>\n",
       "      <td>0.078805</td>\n",
       "    </tr>\n",
       "    <tr>\n",
       "      <th>17</th>\n",
       "      <td>Day</td>\n",
       "      <td>0.018747</td>\n",
       "    </tr>\n",
       "    <tr>\n",
       "      <th>16</th>\n",
       "      <td>Month</td>\n",
       "      <td>0.016034</td>\n",
       "    </tr>\n",
       "    <tr>\n",
       "      <th>6</th>\n",
       "      <td>Weekday</td>\n",
       "      <td>0.013976</td>\n",
       "    </tr>\n",
       "    <tr>\n",
       "      <th>1</th>\n",
       "      <td>DayOfWeek</td>\n",
       "      <td>0.012520</td>\n",
       "    </tr>\n",
       "    <tr>\n",
       "      <th>15</th>\n",
       "      <td>Year</td>\n",
       "      <td>0.004466</td>\n",
       "    </tr>\n",
       "    <tr>\n",
       "      <th>14</th>\n",
       "      <td>Quarter</td>\n",
       "      <td>0.002768</td>\n",
       "    </tr>\n",
       "    <tr>\n",
       "      <th>7</th>\n",
       "      <td>IsWeekend</td>\n",
       "      <td>0.002070</td>\n",
       "    </tr>\n",
       "    <tr>\n",
       "      <th>5</th>\n",
       "      <td>SchoolHoliday</td>\n",
       "      <td>0.001351</td>\n",
       "    </tr>\n",
       "    <tr>\n",
       "      <th>10</th>\n",
       "      <td>IsHoliday</td>\n",
       "      <td>0.001349</td>\n",
       "    </tr>\n",
       "    <tr>\n",
       "      <th>9</th>\n",
       "      <td>IsSchoolHoliday</td>\n",
       "      <td>0.001279</td>\n",
       "    </tr>\n",
       "    <tr>\n",
       "      <th>12</th>\n",
       "      <td>IsMidMonth</td>\n",
       "      <td>0.000799</td>\n",
       "    </tr>\n",
       "    <tr>\n",
       "      <th>13</th>\n",
       "      <td>IsEndOfMonth</td>\n",
       "      <td>0.000742</td>\n",
       "    </tr>\n",
       "    <tr>\n",
       "      <th>11</th>\n",
       "      <td>IsBeginningOfMonth</td>\n",
       "      <td>0.000589</td>\n",
       "    </tr>\n",
       "    <tr>\n",
       "      <th>4</th>\n",
       "      <td>StateHoliday</td>\n",
       "      <td>0.000050</td>\n",
       "    </tr>\n",
       "    <tr>\n",
       "      <th>8</th>\n",
       "      <td>IsStateHoliday</td>\n",
       "      <td>0.000048</td>\n",
       "    </tr>\n",
       "  </tbody>\n",
       "</table>\n",
       "</div>"
      ],
      "text/plain": [
       "               Feature  Importance\n",
       "2                 Open    0.557159\n",
       "0                Store    0.287248\n",
       "3                Promo    0.078805\n",
       "17                 Day    0.018747\n",
       "16               Month    0.016034\n",
       "6              Weekday    0.013976\n",
       "1            DayOfWeek    0.012520\n",
       "15                Year    0.004466\n",
       "14             Quarter    0.002768\n",
       "7            IsWeekend    0.002070\n",
       "5        SchoolHoliday    0.001351\n",
       "10           IsHoliday    0.001349\n",
       "9      IsSchoolHoliday    0.001279\n",
       "12          IsMidMonth    0.000799\n",
       "13        IsEndOfMonth    0.000742\n",
       "11  IsBeginningOfMonth    0.000589\n",
       "4         StateHoliday    0.000050\n",
       "8       IsStateHoliday    0.000048"
      ]
     },
     "execution_count": 43,
     "metadata": {},
     "output_type": "execute_result"
    }
   ],
   "source": [
    "feature_importance_df"
   ]
  },
  {
   "cell_type": "code",
   "execution_count": 41,
   "id": "dfe77ebc",
   "metadata": {},
   "outputs": [
    {
     "data": {
      "image/png": "[encoded data removed]",
      "text/plain": [
       "<Figure size 1200x600 with 1 Axes>"
      ]
     },
     "metadata": {},
     "output_type": "display_data"
    }
   ],
   "source": [
    "\n",
    "plt.figure(figsize=(12, 6))\n",
    "sns.barplot(x=feature_importance_df['Feature'], y=feature_importance_df['Importance'], palette=\"husl\")\n",
    "\n",
    "# Add labels and title\n",
    "plt.xlabel('Feature')\n",
    "plt.ylabel('Importance')\n",
    "plt.title('Feature Importance in Random Forest Model')\n",
    "\n",
    "# Rotate x-axis labels\n",
    "plt.xticks(rotation=45, ha='right')\n",
    "\n",
    "# Show the plot\n",
    "plt.tight_layout()\n",
    "plt.show()\n"
   ]
  },
  {
   "cell_type": "code",
   "execution_count": 44,
   "id": "ac67f0a2",
   "metadata": {},
   "outputs": [
    {
     "data": {
      "text/html": [
       "<div>\n",
       "<style scoped>\n",
       "    .dataframe tbody tr th:only-of-type {\n",
       "        vertical-align: middle;\n",
       "    }\n",
       "\n",
       "    .dataframe tbody tr th {\n",
       "        vertical-align: top;\n",
       "    }\n",
       "\n",
       "    .dataframe thead th {\n",
       "        text-align: right;\n",
       "    }\n",
       "</style>\n",
       "<table border=\"1\" class=\"dataframe\">\n",
       "  <thead>\n",
       "    <tr style=\"text-align: right;\">\n",
       "      <th></th>\n",
       "      <th>Feature</th>\n",
       "      <th>Importance</th>\n",
       "    </tr>\n",
       "  </thead>\n",
       "  <tbody>\n",
       "    <tr>\n",
       "      <th>2</th>\n",
       "      <td>Open</td>\n",
       "      <td>0.557159</td>\n",
       "    </tr>\n",
       "    <tr>\n",
       "      <th>0</th>\n",
       "      <td>Store</td>\n",
       "      <td>0.287248</td>\n",
       "    </tr>\n",
       "    <tr>\n",
       "      <th>3</th>\n",
       "      <td>Promo</td>\n",
       "      <td>0.078805</td>\n",
       "    </tr>\n",
       "    <tr>\n",
       "      <th>17</th>\n",
       "      <td>Day</td>\n",
       "      <td>0.018747</td>\n",
       "    </tr>\n",
       "    <tr>\n",
       "      <th>16</th>\n",
       "      <td>Month</td>\n",
       "      <td>0.016034</td>\n",
       "    </tr>\n",
       "  </tbody>\n",
       "</table>\n",
       "</div>"
      ],
      "text/plain": [
       "   Feature  Importance\n",
       "2     Open    0.557159\n",
       "0    Store    0.287248\n",
       "3    Promo    0.078805\n",
       "17     Day    0.018747\n",
       "16   Month    0.016034"
      ]
     },
     "execution_count": 44,
     "metadata": {},
     "output_type": "execute_result"
    }
   ],
   "source": [
    "feature_importance_df.head()"
   ]
  },
  {
   "cell_type": "code",
   "execution_count": null,
   "id": "82e56ee0",
   "metadata": {},
   "outputs": [],
   "source": []
  }
 ],
 "metadata": {
  "kernelspec": {
   "display_name": "base",
   "language": "python",
   "name": "python3"
  },
  "language_info": {
   "codemirror_mode": {
    "name": "ipython",
    "version": 3
   },
   "file_extension": ".py",
   "mimetype": "text/x-python",
   "name": "python",
   "nbconvert_exporter": "python",
   "pygments_lexer": "ipython3",
   "version": "3.11.5"
  }
 },
 "nbformat": 4,
 "nbformat_minor": 5
}
